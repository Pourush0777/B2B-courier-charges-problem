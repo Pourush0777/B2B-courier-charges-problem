{
 "cells": [
  {
   "cell_type": "markdown",
   "id": "0858c84a",
   "metadata": {},
   "source": [
    "# courier charges \n",
    "Problem ::- Inshort company want to calculate courier charges and compare with other vendors."
   ]
  },
  {
   "cell_type": "code",
   "execution_count": 345,
   "id": "d9b0c54b",
   "metadata": {},
   "outputs": [],
   "source": [
    "#let's start with importing dataset into our notebook\n",
    "\n",
    "import pandas as pd"
   ]
  },
  {
   "cell_type": "code",
   "execution_count": 346,
   "id": "9296fcb2",
   "metadata": {},
   "outputs": [],
   "source": [
    "order_report=pd.read_excel('D:\\courier\\Company X - Order Report.xlsx')"
   ]
  },
  {
   "cell_type": "code",
   "execution_count": 347,
   "id": "1a5dcfa7",
   "metadata": {},
   "outputs": [],
   "source": [
    "sku_master=pd.read_excel('D:\\courier\\Company X - SKU Master.xlsx')"
   ]
  },
  {
   "cell_type": "code",
   "execution_count": 348,
   "id": "2574e32c",
   "metadata": {},
   "outputs": [],
   "source": [
    "pincode=pd.read_excel('D:\\courier\\Company X - Pincode Zones.xlsx')"
   ]
  },
  {
   "cell_type": "code",
   "execution_count": 349,
   "id": "552583e9",
   "metadata": {},
   "outputs": [],
   "source": [
    "courier_invoice=pd.read_excel('D:\\courier\\Courier Company - Invoice.xlsx')"
   ]
  },
  {
   "cell_type": "code",
   "execution_count": 350,
   "id": "91612230",
   "metadata": {},
   "outputs": [],
   "source": [
    "courier_company_rates=pd.read_excel('D:\\courier\\Courier Company - Rates.xlsx')"
   ]
  },
  {
   "cell_type": "code",
   "execution_count": 351,
   "id": "b9437981",
   "metadata": {},
   "outputs": [
    {
     "data": {
      "text/html": [
       "<div>\n",
       "<style scoped>\n",
       "    .dataframe tbody tr th:only-of-type {\n",
       "        vertical-align: middle;\n",
       "    }\n",
       "\n",
       "    .dataframe tbody tr th {\n",
       "        vertical-align: top;\n",
       "    }\n",
       "\n",
       "    .dataframe thead th {\n",
       "        text-align: right;\n",
       "    }\n",
       "</style>\n",
       "<table border=\"1\" class=\"dataframe\">\n",
       "  <thead>\n",
       "    <tr style=\"text-align: right;\">\n",
       "      <th></th>\n",
       "      <th>ExternOrderNo</th>\n",
       "      <th>SKU</th>\n",
       "      <th>Order Qty</th>\n",
       "    </tr>\n",
       "  </thead>\n",
       "  <tbody>\n",
       "    <tr>\n",
       "      <th>0</th>\n",
       "      <td>2001827036</td>\n",
       "      <td>8904223818706</td>\n",
       "      <td>1.0</td>\n",
       "    </tr>\n",
       "    <tr>\n",
       "      <th>1</th>\n",
       "      <td>2001827036</td>\n",
       "      <td>8904223819093</td>\n",
       "      <td>1.0</td>\n",
       "    </tr>\n",
       "    <tr>\n",
       "      <th>2</th>\n",
       "      <td>2001827036</td>\n",
       "      <td>8904223819109</td>\n",
       "      <td>1.0</td>\n",
       "    </tr>\n",
       "    <tr>\n",
       "      <th>3</th>\n",
       "      <td>2001827036</td>\n",
       "      <td>8904223818430</td>\n",
       "      <td>1.0</td>\n",
       "    </tr>\n",
       "    <tr>\n",
       "      <th>4</th>\n",
       "      <td>2001827036</td>\n",
       "      <td>8904223819277</td>\n",
       "      <td>1.0</td>\n",
       "    </tr>\n",
       "  </tbody>\n",
       "</table>\n",
       "</div>"
      ],
      "text/plain": [
       "   ExternOrderNo            SKU  Order Qty\n",
       "0     2001827036  8904223818706        1.0\n",
       "1     2001827036  8904223819093        1.0\n",
       "2     2001827036  8904223819109        1.0\n",
       "3     2001827036  8904223818430        1.0\n",
       "4     2001827036  8904223819277        1.0"
      ]
     },
     "execution_count": 351,
     "metadata": {},
     "output_type": "execute_result"
    }
   ],
   "source": [
    "order_report.head()"
   ]
  },
  {
   "cell_type": "code",
   "execution_count": 352,
   "id": "8261bce2",
   "metadata": {},
   "outputs": [
    {
     "data": {
      "text/html": [
       "<div>\n",
       "<style scoped>\n",
       "    .dataframe tbody tr th:only-of-type {\n",
       "        vertical-align: middle;\n",
       "    }\n",
       "\n",
       "    .dataframe tbody tr th {\n",
       "        vertical-align: top;\n",
       "    }\n",
       "\n",
       "    .dataframe thead th {\n",
       "        text-align: right;\n",
       "    }\n",
       "</style>\n",
       "<table border=\"1\" class=\"dataframe\">\n",
       "  <thead>\n",
       "    <tr style=\"text-align: right;\">\n",
       "      <th></th>\n",
       "      <th>SKU</th>\n",
       "      <th>Weight (g)</th>\n",
       "    </tr>\n",
       "  </thead>\n",
       "  <tbody>\n",
       "    <tr>\n",
       "      <th>0</th>\n",
       "      <td>8904223815682</td>\n",
       "      <td>210</td>\n",
       "    </tr>\n",
       "    <tr>\n",
       "      <th>1</th>\n",
       "      <td>8904223815859</td>\n",
       "      <td>165</td>\n",
       "    </tr>\n",
       "    <tr>\n",
       "      <th>2</th>\n",
       "      <td>8904223815866</td>\n",
       "      <td>113</td>\n",
       "    </tr>\n",
       "    <tr>\n",
       "      <th>3</th>\n",
       "      <td>8904223815873</td>\n",
       "      <td>65</td>\n",
       "    </tr>\n",
       "    <tr>\n",
       "      <th>4</th>\n",
       "      <td>8904223816214</td>\n",
       "      <td>120</td>\n",
       "    </tr>\n",
       "  </tbody>\n",
       "</table>\n",
       "</div>"
      ],
      "text/plain": [
       "             SKU  Weight (g)\n",
       "0  8904223815682         210\n",
       "1  8904223815859         165\n",
       "2  8904223815866         113\n",
       "3  8904223815873          65\n",
       "4  8904223816214         120"
      ]
     },
     "execution_count": 352,
     "metadata": {},
     "output_type": "execute_result"
    }
   ],
   "source": [
    "sku_master.head()"
   ]
  },
  {
   "cell_type": "code",
   "execution_count": 353,
   "id": "0ab1e636",
   "metadata": {},
   "outputs": [
    {
     "data": {
      "text/html": [
       "<div>\n",
       "<style scoped>\n",
       "    .dataframe tbody tr th:only-of-type {\n",
       "        vertical-align: middle;\n",
       "    }\n",
       "\n",
       "    .dataframe tbody tr th {\n",
       "        vertical-align: top;\n",
       "    }\n",
       "\n",
       "    .dataframe thead th {\n",
       "        text-align: right;\n",
       "    }\n",
       "</style>\n",
       "<table border=\"1\" class=\"dataframe\">\n",
       "  <thead>\n",
       "    <tr style=\"text-align: right;\">\n",
       "      <th></th>\n",
       "      <th>Warehouse Pincode</th>\n",
       "      <th>Customer Pincode</th>\n",
       "      <th>Zone</th>\n",
       "    </tr>\n",
       "  </thead>\n",
       "  <tbody>\n",
       "    <tr>\n",
       "      <th>0</th>\n",
       "      <td>121003</td>\n",
       "      <td>507101</td>\n",
       "      <td>d</td>\n",
       "    </tr>\n",
       "    <tr>\n",
       "      <th>1</th>\n",
       "      <td>121003</td>\n",
       "      <td>486886</td>\n",
       "      <td>d</td>\n",
       "    </tr>\n",
       "    <tr>\n",
       "      <th>2</th>\n",
       "      <td>121003</td>\n",
       "      <td>532484</td>\n",
       "      <td>d</td>\n",
       "    </tr>\n",
       "    <tr>\n",
       "      <th>3</th>\n",
       "      <td>121003</td>\n",
       "      <td>143001</td>\n",
       "      <td>b</td>\n",
       "    </tr>\n",
       "    <tr>\n",
       "      <th>4</th>\n",
       "      <td>121003</td>\n",
       "      <td>515591</td>\n",
       "      <td>d</td>\n",
       "    </tr>\n",
       "  </tbody>\n",
       "</table>\n",
       "</div>"
      ],
      "text/plain": [
       "   Warehouse Pincode  Customer Pincode Zone\n",
       "0             121003            507101    d\n",
       "1             121003            486886    d\n",
       "2             121003            532484    d\n",
       "3             121003            143001    b\n",
       "4             121003            515591    d"
      ]
     },
     "execution_count": 353,
     "metadata": {},
     "output_type": "execute_result"
    }
   ],
   "source": [
    "pincode.head()"
   ]
  },
  {
   "cell_type": "code",
   "execution_count": 354,
   "id": "9ca0b3a8",
   "metadata": {},
   "outputs": [
    {
     "data": {
      "text/html": [
       "<div>\n",
       "<style scoped>\n",
       "    .dataframe tbody tr th:only-of-type {\n",
       "        vertical-align: middle;\n",
       "    }\n",
       "\n",
       "    .dataframe tbody tr th {\n",
       "        vertical-align: top;\n",
       "    }\n",
       "\n",
       "    .dataframe thead th {\n",
       "        text-align: right;\n",
       "    }\n",
       "</style>\n",
       "<table border=\"1\" class=\"dataframe\">\n",
       "  <thead>\n",
       "    <tr style=\"text-align: right;\">\n",
       "      <th></th>\n",
       "      <th>AWB Code</th>\n",
       "      <th>Order ID</th>\n",
       "      <th>Charged Weight</th>\n",
       "      <th>Warehouse Pincode</th>\n",
       "      <th>Customer Pincode</th>\n",
       "      <th>Zone</th>\n",
       "      <th>Type of Shipment</th>\n",
       "      <th>Billing Amount (Rs.)</th>\n",
       "    </tr>\n",
       "  </thead>\n",
       "  <tbody>\n",
       "    <tr>\n",
       "      <th>0</th>\n",
       "      <td>1091117222124</td>\n",
       "      <td>2001806232</td>\n",
       "      <td>1.30</td>\n",
       "      <td>121003</td>\n",
       "      <td>507101</td>\n",
       "      <td>d</td>\n",
       "      <td>Forward charges</td>\n",
       "      <td>135.0</td>\n",
       "    </tr>\n",
       "    <tr>\n",
       "      <th>1</th>\n",
       "      <td>1091117222194</td>\n",
       "      <td>2001806273</td>\n",
       "      <td>1.00</td>\n",
       "      <td>121003</td>\n",
       "      <td>486886</td>\n",
       "      <td>d</td>\n",
       "      <td>Forward charges</td>\n",
       "      <td>90.2</td>\n",
       "    </tr>\n",
       "    <tr>\n",
       "      <th>2</th>\n",
       "      <td>1091117222931</td>\n",
       "      <td>2001806408</td>\n",
       "      <td>2.50</td>\n",
       "      <td>121003</td>\n",
       "      <td>532484</td>\n",
       "      <td>d</td>\n",
       "      <td>Forward charges</td>\n",
       "      <td>224.6</td>\n",
       "    </tr>\n",
       "    <tr>\n",
       "      <th>3</th>\n",
       "      <td>1091117223244</td>\n",
       "      <td>2001806458</td>\n",
       "      <td>1.00</td>\n",
       "      <td>121003</td>\n",
       "      <td>143001</td>\n",
       "      <td>b</td>\n",
       "      <td>Forward charges</td>\n",
       "      <td>61.3</td>\n",
       "    </tr>\n",
       "    <tr>\n",
       "      <th>4</th>\n",
       "      <td>1091117229345</td>\n",
       "      <td>2001807012</td>\n",
       "      <td>0.15</td>\n",
       "      <td>121003</td>\n",
       "      <td>515591</td>\n",
       "      <td>d</td>\n",
       "      <td>Forward charges</td>\n",
       "      <td>45.4</td>\n",
       "    </tr>\n",
       "  </tbody>\n",
       "</table>\n",
       "</div>"
      ],
      "text/plain": [
       "        AWB Code    Order ID  Charged Weight  Warehouse Pincode  \\\n",
       "0  1091117222124  2001806232            1.30             121003   \n",
       "1  1091117222194  2001806273            1.00             121003   \n",
       "2  1091117222931  2001806408            2.50             121003   \n",
       "3  1091117223244  2001806458            1.00             121003   \n",
       "4  1091117229345  2001807012            0.15             121003   \n",
       "\n",
       "   Customer Pincode Zone Type of Shipment  Billing Amount (Rs.)  \n",
       "0            507101    d  Forward charges                 135.0  \n",
       "1            486886    d  Forward charges                  90.2  \n",
       "2            532484    d  Forward charges                 224.6  \n",
       "3            143001    b  Forward charges                  61.3  \n",
       "4            515591    d  Forward charges                  45.4  "
      ]
     },
     "execution_count": 354,
     "metadata": {},
     "output_type": "execute_result"
    }
   ],
   "source": [
    "courier_invoice.head()"
   ]
  },
  {
   "cell_type": "code",
   "execution_count": 355,
   "id": "a09b8627",
   "metadata": {},
   "outputs": [
    {
     "data": {
      "text/html": [
       "<div>\n",
       "<style scoped>\n",
       "    .dataframe tbody tr th:only-of-type {\n",
       "        vertical-align: middle;\n",
       "    }\n",
       "\n",
       "    .dataframe tbody tr th {\n",
       "        vertical-align: top;\n",
       "    }\n",
       "\n",
       "    .dataframe thead th {\n",
       "        text-align: right;\n",
       "    }\n",
       "</style>\n",
       "<table border=\"1\" class=\"dataframe\">\n",
       "  <thead>\n",
       "    <tr style=\"text-align: right;\">\n",
       "      <th></th>\n",
       "      <th>fwd_a_fixed</th>\n",
       "      <th>fwd_a_additional</th>\n",
       "      <th>fwd_b_fixed</th>\n",
       "      <th>fwd_b_additional</th>\n",
       "      <th>fwd_c_fixed</th>\n",
       "      <th>fwd_c_additional</th>\n",
       "      <th>fwd_d_fixed</th>\n",
       "      <th>fwd_d_additional</th>\n",
       "      <th>fwd_e_fixed</th>\n",
       "      <th>fwd_e_additional</th>\n",
       "      <th>rto_a_fixed</th>\n",
       "      <th>rto_a_additional</th>\n",
       "      <th>rto_b_fixed</th>\n",
       "      <th>rto_b_additional</th>\n",
       "      <th>rto_c_fixed</th>\n",
       "      <th>rto_c_additional</th>\n",
       "      <th>rto_d_fixed</th>\n",
       "      <th>rto_d_additional</th>\n",
       "      <th>rto_e_fixed</th>\n",
       "      <th>rto_e_additional</th>\n",
       "    </tr>\n",
       "  </thead>\n",
       "  <tbody>\n",
       "    <tr>\n",
       "      <th>0</th>\n",
       "      <td>29.5</td>\n",
       "      <td>23.6</td>\n",
       "      <td>33</td>\n",
       "      <td>28.3</td>\n",
       "      <td>40.1</td>\n",
       "      <td>38.9</td>\n",
       "      <td>45.4</td>\n",
       "      <td>44.8</td>\n",
       "      <td>56.6</td>\n",
       "      <td>55.5</td>\n",
       "      <td>13.6</td>\n",
       "      <td>23.6</td>\n",
       "      <td>20.5</td>\n",
       "      <td>28.3</td>\n",
       "      <td>31.9</td>\n",
       "      <td>38.9</td>\n",
       "      <td>41.3</td>\n",
       "      <td>44.8</td>\n",
       "      <td>50.7</td>\n",
       "      <td>55.5</td>\n",
       "    </tr>\n",
       "  </tbody>\n",
       "</table>\n",
       "</div>"
      ],
      "text/plain": [
       "   fwd_a_fixed  fwd_a_additional  fwd_b_fixed  fwd_b_additional  fwd_c_fixed  \\\n",
       "0         29.5              23.6           33              28.3         40.1   \n",
       "\n",
       "   fwd_c_additional  fwd_d_fixed  fwd_d_additional  fwd_e_fixed  \\\n",
       "0              38.9         45.4              44.8         56.6   \n",
       "\n",
       "   fwd_e_additional  rto_a_fixed  rto_a_additional  rto_b_fixed  \\\n",
       "0              55.5         13.6              23.6         20.5   \n",
       "\n",
       "   rto_b_additional  rto_c_fixed  rto_c_additional  rto_d_fixed  \\\n",
       "0              28.3         31.9              38.9         41.3   \n",
       "\n",
       "   rto_d_additional  rto_e_fixed  rto_e_additional  \n",
       "0              44.8         50.7              55.5  "
      ]
     },
     "execution_count": 355,
     "metadata": {},
     "output_type": "execute_result"
    }
   ],
   "source": [
    "courier_company_rates.head()"
   ]
  },
  {
   "cell_type": "code",
   "execution_count": 356,
   "id": "8e9c9b1a",
   "metadata": {},
   "outputs": [
    {
     "data": {
      "text/plain": [
       "Index(['fwd_a_fixed', 'fwd_a_additional', 'fwd_b_fixed', 'fwd_b_additional',\n",
       "       'fwd_c_fixed', 'fwd_c_additional', 'fwd_d_fixed', 'fwd_d_additional',\n",
       "       'fwd_e_fixed', 'fwd_e_additional', 'rto_a_fixed', 'rto_a_additional',\n",
       "       'rto_b_fixed', 'rto_b_additional', 'rto_c_fixed', 'rto_c_additional',\n",
       "       'rto_d_fixed', 'rto_d_additional', 'rto_e_fixed', 'rto_e_additional'],\n",
       "      dtype='object')"
      ]
     },
     "execution_count": 356,
     "metadata": {},
     "output_type": "execute_result"
    }
   ],
   "source": [
    "courier_company_rates.columns"
   ]
  },
  {
   "cell_type": "code",
   "execution_count": 357,
   "id": "7650644e",
   "metadata": {},
   "outputs": [],
   "source": [
    "#OK we just go through the data just to understand the data\n",
    "\n",
    "#now first perform EDA on above data----.order_report/sku_master/pincode/courier_invoice/courier_company_rates"
   ]
  },
  {
   "cell_type": "code",
   "execution_count": 358,
   "id": "9b024f92",
   "metadata": {},
   "outputs": [
    {
     "data": {
      "text/plain": [
       "ExternOrderNo    0\n",
       "SKU              0\n",
       "Order Qty        0\n",
       "dtype: int64"
      ]
     },
     "execution_count": 358,
     "metadata": {},
     "output_type": "execute_result"
    }
   ],
   "source": [
    "order_report.isnull().sum()"
   ]
  },
  {
   "cell_type": "code",
   "execution_count": 359,
   "id": "fedfebe3",
   "metadata": {},
   "outputs": [
    {
     "data": {
      "text/plain": [
       "SKU           0\n",
       "Weight (g)    0\n",
       "dtype: int64"
      ]
     },
     "execution_count": 359,
     "metadata": {},
     "output_type": "execute_result"
    }
   ],
   "source": [
    "sku_master.isnull().sum()"
   ]
  },
  {
   "cell_type": "code",
   "execution_count": 360,
   "id": "12f12407",
   "metadata": {},
   "outputs": [
    {
     "data": {
      "text/plain": [
       "Warehouse Pincode    0\n",
       "Customer Pincode     0\n",
       "Zone                 0\n",
       "dtype: int64"
      ]
     },
     "execution_count": 360,
     "metadata": {},
     "output_type": "execute_result"
    }
   ],
   "source": [
    "pincode.isnull().sum()"
   ]
  },
  {
   "cell_type": "code",
   "execution_count": 361,
   "id": "41a8ba8a",
   "metadata": {},
   "outputs": [
    {
     "data": {
      "text/plain": [
       "AWB Code                0\n",
       "Order ID                0\n",
       "Charged Weight          0\n",
       "Warehouse Pincode       0\n",
       "Customer Pincode        0\n",
       "Zone                    0\n",
       "Type of Shipment        0\n",
       "Billing Amount (Rs.)    0\n",
       "dtype: int64"
      ]
     },
     "execution_count": 361,
     "metadata": {},
     "output_type": "execute_result"
    }
   ],
   "source": [
    "courier_invoice.isnull().sum()"
   ]
  },
  {
   "cell_type": "code",
   "execution_count": 362,
   "id": "6b266e98",
   "metadata": {},
   "outputs": [
    {
     "data": {
      "text/plain": [
       "fwd_a_fixed         0\n",
       "fwd_a_additional    0\n",
       "fwd_b_fixed         0\n",
       "fwd_b_additional    0\n",
       "fwd_c_fixed         0\n",
       "fwd_c_additional    0\n",
       "fwd_d_fixed         0\n",
       "fwd_d_additional    0\n",
       "fwd_e_fixed         0\n",
       "fwd_e_additional    0\n",
       "rto_a_fixed         0\n",
       "rto_a_additional    0\n",
       "rto_b_fixed         0\n",
       "rto_b_additional    0\n",
       "rto_c_fixed         0\n",
       "rto_c_additional    0\n",
       "rto_d_fixed         0\n",
       "rto_d_additional    0\n",
       "rto_e_fixed         0\n",
       "rto_e_additional    0\n",
       "dtype: int64"
      ]
     },
     "execution_count": 362,
     "metadata": {},
     "output_type": "execute_result"
    }
   ],
   "source": [
    "courier_company_rates.isnull().sum()"
   ]
  },
  {
   "cell_type": "code",
   "execution_count": 363,
   "id": "3a93f48c",
   "metadata": {},
   "outputs": [
    {
     "data": {
      "text/plain": [
       "Index(['Warehouse Pincode', 'Customer Pincode', 'Zone'], dtype='object')"
      ]
     },
     "execution_count": 363,
     "metadata": {},
     "output_type": "execute_result"
    }
   ],
   "source": [
    "pincode.columns"
   ]
  },
  {
   "cell_type": "markdown",
   "id": "ff667a6b",
   "metadata": {},
   "source": [
    "#'''as we can see order_report and sku master .\n",
    "#external order number is just seems to be order id and sku mentioned on both so we can try to merge and see'''\n",
    "\n",
    "#order_report/sku_master/pincode/courier_invoice/courier_company_rates"
   ]
  },
  {
   "cell_type": "code",
   "execution_count": 364,
   "id": "d6a4af2d",
   "metadata": {},
   "outputs": [],
   "source": [
    "merged_data=pd.merge(order_report,sku_master,on='SKU')"
   ]
  },
  {
   "cell_type": "code",
   "execution_count": 365,
   "id": "d47cdc8f",
   "metadata": {},
   "outputs": [
    {
     "data": {
      "text/html": [
       "<div>\n",
       "<style scoped>\n",
       "    .dataframe tbody tr th:only-of-type {\n",
       "        vertical-align: middle;\n",
       "    }\n",
       "\n",
       "    .dataframe tbody tr th {\n",
       "        vertical-align: top;\n",
       "    }\n",
       "\n",
       "    .dataframe thead th {\n",
       "        text-align: right;\n",
       "    }\n",
       "</style>\n",
       "<table border=\"1\" class=\"dataframe\">\n",
       "  <thead>\n",
       "    <tr style=\"text-align: right;\">\n",
       "      <th></th>\n",
       "      <th>ExternOrderNo</th>\n",
       "      <th>SKU</th>\n",
       "      <th>Order Qty</th>\n",
       "      <th>Weight (g)</th>\n",
       "    </tr>\n",
       "  </thead>\n",
       "  <tbody>\n",
       "    <tr>\n",
       "      <th>0</th>\n",
       "      <td>2001827036</td>\n",
       "      <td>8904223818706</td>\n",
       "      <td>1.0</td>\n",
       "      <td>127</td>\n",
       "    </tr>\n",
       "    <tr>\n",
       "      <th>1</th>\n",
       "      <td>2001821995</td>\n",
       "      <td>8904223818706</td>\n",
       "      <td>1.0</td>\n",
       "      <td>127</td>\n",
       "    </tr>\n",
       "    <tr>\n",
       "      <th>2</th>\n",
       "      <td>2001819252</td>\n",
       "      <td>8904223818706</td>\n",
       "      <td>1.0</td>\n",
       "      <td>127</td>\n",
       "    </tr>\n",
       "    <tr>\n",
       "      <th>3</th>\n",
       "      <td>2001816996</td>\n",
       "      <td>8904223818706</td>\n",
       "      <td>1.0</td>\n",
       "      <td>127</td>\n",
       "    </tr>\n",
       "    <tr>\n",
       "      <th>4</th>\n",
       "      <td>2001814580</td>\n",
       "      <td>8904223818706</td>\n",
       "      <td>1.0</td>\n",
       "      <td>127</td>\n",
       "    </tr>\n",
       "  </tbody>\n",
       "</table>\n",
       "</div>"
      ],
      "text/plain": [
       "   ExternOrderNo            SKU  Order Qty  Weight (g)\n",
       "0     2001827036  8904223818706        1.0         127\n",
       "1     2001821995  8904223818706        1.0         127\n",
       "2     2001819252  8904223818706        1.0         127\n",
       "3     2001816996  8904223818706        1.0         127\n",
       "4     2001814580  8904223818706        1.0         127"
      ]
     },
     "execution_count": 365,
     "metadata": {},
     "output_type": "execute_result"
    }
   ],
   "source": [
    "merged_data.head()"
   ]
  },
  {
   "cell_type": "code",
   "execution_count": 366,
   "id": "db173336",
   "metadata": {},
   "outputs": [],
   "source": [
    "merged_data=merged_data.rename(columns={'ExternOrderNo':'Order ID'})"
   ]
  },
  {
   "cell_type": "code",
   "execution_count": 367,
   "id": "4a6b4774",
   "metadata": {},
   "outputs": [
    {
     "data": {
      "text/html": [
       "<div>\n",
       "<style scoped>\n",
       "    .dataframe tbody tr th:only-of-type {\n",
       "        vertical-align: middle;\n",
       "    }\n",
       "\n",
       "    .dataframe tbody tr th {\n",
       "        vertical-align: top;\n",
       "    }\n",
       "\n",
       "    .dataframe thead th {\n",
       "        text-align: right;\n",
       "    }\n",
       "</style>\n",
       "<table border=\"1\" class=\"dataframe\">\n",
       "  <thead>\n",
       "    <tr style=\"text-align: right;\">\n",
       "      <th></th>\n",
       "      <th>Order ID</th>\n",
       "      <th>SKU</th>\n",
       "      <th>Order Qty</th>\n",
       "      <th>Weight (g)</th>\n",
       "    </tr>\n",
       "  </thead>\n",
       "  <tbody>\n",
       "    <tr>\n",
       "      <th>396</th>\n",
       "      <td>2001806616</td>\n",
       "      <td>8904223819123</td>\n",
       "      <td>1.0</td>\n",
       "      <td>250</td>\n",
       "    </tr>\n",
       "    <tr>\n",
       "      <th>397</th>\n",
       "      <td>2001806567</td>\n",
       "      <td>8904223815804</td>\n",
       "      <td>1.0</td>\n",
       "      <td>160</td>\n",
       "    </tr>\n",
       "    <tr>\n",
       "      <th>398</th>\n",
       "      <td>2001806567</td>\n",
       "      <td>8904223818577</td>\n",
       "      <td>1.0</td>\n",
       "      <td>150</td>\n",
       "    </tr>\n",
       "    <tr>\n",
       "      <th>399</th>\n",
       "      <td>2001806408</td>\n",
       "      <td>8904223819437</td>\n",
       "      <td>2.0</td>\n",
       "      <td>552</td>\n",
       "    </tr>\n",
       "    <tr>\n",
       "      <th>400</th>\n",
       "      <td>2001806232</td>\n",
       "      <td>8904223818645</td>\n",
       "      <td>6.0</td>\n",
       "      <td>137</td>\n",
       "    </tr>\n",
       "  </tbody>\n",
       "</table>\n",
       "</div>"
      ],
      "text/plain": [
       "       Order ID            SKU  Order Qty  Weight (g)\n",
       "396  2001806616  8904223819123        1.0         250\n",
       "397  2001806567  8904223815804        1.0         160\n",
       "398  2001806567  8904223818577        1.0         150\n",
       "399  2001806408  8904223819437        2.0         552\n",
       "400  2001806232  8904223818645        6.0         137"
      ]
     },
     "execution_count": 367,
     "metadata": {},
     "output_type": "execute_result"
    }
   ],
   "source": [
    "merged_data.tail()"
   ]
  },
  {
   "cell_type": "code",
   "execution_count": 368,
   "id": "d897223a",
   "metadata": {},
   "outputs": [
    {
     "name": "stdout",
     "output_type": "stream",
     "text": [
      "<class 'pandas.core.frame.DataFrame'>\n",
      "RangeIndex: 124 entries, 0 to 123\n",
      "Data columns (total 3 columns):\n",
      " #   Column             Non-Null Count  Dtype \n",
      "---  ------             --------------  ----- \n",
      " 0   Warehouse Pincode  124 non-null    int64 \n",
      " 1   Customer Pincode   124 non-null    int64 \n",
      " 2   Zone               124 non-null    object\n",
      "dtypes: int64(2), object(1)\n",
      "memory usage: 3.0+ KB\n"
     ]
    }
   ],
   "source": [
    "pincode.info()"
   ]
  },
  {
   "cell_type": "code",
   "execution_count": 369,
   "id": "f2e1e60e",
   "metadata": {},
   "outputs": [],
   "source": [
    "abc_courier=pincode.drop_duplicates(subset=['Customer Pincode'])"
   ]
  },
  {
   "cell_type": "code",
   "execution_count": 370,
   "id": "c0e6d773",
   "metadata": {},
   "outputs": [
    {
     "data": {
      "text/html": [
       "<div>\n",
       "<style scoped>\n",
       "    .dataframe tbody tr th:only-of-type {\n",
       "        vertical-align: middle;\n",
       "    }\n",
       "\n",
       "    .dataframe tbody tr th {\n",
       "        vertical-align: top;\n",
       "    }\n",
       "\n",
       "    .dataframe thead th {\n",
       "        text-align: right;\n",
       "    }\n",
       "</style>\n",
       "<table border=\"1\" class=\"dataframe\">\n",
       "  <thead>\n",
       "    <tr style=\"text-align: right;\">\n",
       "      <th></th>\n",
       "      <th>Warehouse Pincode</th>\n",
       "      <th>Customer Pincode</th>\n",
       "      <th>Zone</th>\n",
       "    </tr>\n",
       "  </thead>\n",
       "  <tbody>\n",
       "    <tr>\n",
       "      <th>0</th>\n",
       "      <td>121003</td>\n",
       "      <td>507101</td>\n",
       "      <td>d</td>\n",
       "    </tr>\n",
       "    <tr>\n",
       "      <th>1</th>\n",
       "      <td>121003</td>\n",
       "      <td>486886</td>\n",
       "      <td>d</td>\n",
       "    </tr>\n",
       "    <tr>\n",
       "      <th>2</th>\n",
       "      <td>121003</td>\n",
       "      <td>532484</td>\n",
       "      <td>d</td>\n",
       "    </tr>\n",
       "    <tr>\n",
       "      <th>3</th>\n",
       "      <td>121003</td>\n",
       "      <td>143001</td>\n",
       "      <td>b</td>\n",
       "    </tr>\n",
       "    <tr>\n",
       "      <th>4</th>\n",
       "      <td>121003</td>\n",
       "      <td>515591</td>\n",
       "      <td>d</td>\n",
       "    </tr>\n",
       "  </tbody>\n",
       "</table>\n",
       "</div>"
      ],
      "text/plain": [
       "   Warehouse Pincode  Customer Pincode Zone\n",
       "0             121003            507101    d\n",
       "1             121003            486886    d\n",
       "2             121003            532484    d\n",
       "3             121003            143001    b\n",
       "4             121003            515591    d"
      ]
     },
     "execution_count": 370,
     "metadata": {},
     "output_type": "execute_result"
    }
   ],
   "source": [
    "abc_courier.head()"
   ]
  },
  {
   "cell_type": "code",
   "execution_count": 371,
   "id": "62be09f8",
   "metadata": {},
   "outputs": [
    {
     "data": {
      "text/html": [
       "<div>\n",
       "<style scoped>\n",
       "    .dataframe tbody tr th:only-of-type {\n",
       "        vertical-align: middle;\n",
       "    }\n",
       "\n",
       "    .dataframe tbody tr th {\n",
       "        vertical-align: top;\n",
       "    }\n",
       "\n",
       "    .dataframe thead th {\n",
       "        text-align: right;\n",
       "    }\n",
       "</style>\n",
       "<table border=\"1\" class=\"dataframe\">\n",
       "  <thead>\n",
       "    <tr style=\"text-align: right;\">\n",
       "      <th></th>\n",
       "      <th>AWB Code</th>\n",
       "      <th>Order ID</th>\n",
       "      <th>Charged Weight</th>\n",
       "      <th>Warehouse Pincode</th>\n",
       "      <th>Customer Pincode</th>\n",
       "      <th>Zone</th>\n",
       "      <th>Type of Shipment</th>\n",
       "      <th>Billing Amount (Rs.)</th>\n",
       "    </tr>\n",
       "  </thead>\n",
       "  <tbody>\n",
       "    <tr>\n",
       "      <th>0</th>\n",
       "      <td>1091117222124</td>\n",
       "      <td>2001806232</td>\n",
       "      <td>1.30</td>\n",
       "      <td>121003</td>\n",
       "      <td>507101</td>\n",
       "      <td>d</td>\n",
       "      <td>Forward charges</td>\n",
       "      <td>135.0</td>\n",
       "    </tr>\n",
       "    <tr>\n",
       "      <th>1</th>\n",
       "      <td>1091117222194</td>\n",
       "      <td>2001806273</td>\n",
       "      <td>1.00</td>\n",
       "      <td>121003</td>\n",
       "      <td>486886</td>\n",
       "      <td>d</td>\n",
       "      <td>Forward charges</td>\n",
       "      <td>90.2</td>\n",
       "    </tr>\n",
       "    <tr>\n",
       "      <th>2</th>\n",
       "      <td>1091117222931</td>\n",
       "      <td>2001806408</td>\n",
       "      <td>2.50</td>\n",
       "      <td>121003</td>\n",
       "      <td>532484</td>\n",
       "      <td>d</td>\n",
       "      <td>Forward charges</td>\n",
       "      <td>224.6</td>\n",
       "    </tr>\n",
       "    <tr>\n",
       "      <th>3</th>\n",
       "      <td>1091117223244</td>\n",
       "      <td>2001806458</td>\n",
       "      <td>1.00</td>\n",
       "      <td>121003</td>\n",
       "      <td>143001</td>\n",
       "      <td>b</td>\n",
       "      <td>Forward charges</td>\n",
       "      <td>61.3</td>\n",
       "    </tr>\n",
       "    <tr>\n",
       "      <th>4</th>\n",
       "      <td>1091117229345</td>\n",
       "      <td>2001807012</td>\n",
       "      <td>0.15</td>\n",
       "      <td>121003</td>\n",
       "      <td>515591</td>\n",
       "      <td>d</td>\n",
       "      <td>Forward charges</td>\n",
       "      <td>45.4</td>\n",
       "    </tr>\n",
       "    <tr>\n",
       "      <th>...</th>\n",
       "      <td>...</td>\n",
       "      <td>...</td>\n",
       "      <td>...</td>\n",
       "      <td>...</td>\n",
       "      <td>...</td>\n",
       "      <td>...</td>\n",
       "      <td>...</td>\n",
       "      <td>...</td>\n",
       "    </tr>\n",
       "    <tr>\n",
       "      <th>119</th>\n",
       "      <td>1091118551656</td>\n",
       "      <td>2001812941</td>\n",
       "      <td>0.73</td>\n",
       "      <td>121003</td>\n",
       "      <td>325207</td>\n",
       "      <td>d</td>\n",
       "      <td>Forward charges</td>\n",
       "      <td>90.2</td>\n",
       "    </tr>\n",
       "    <tr>\n",
       "      <th>120</th>\n",
       "      <td>1091117614452</td>\n",
       "      <td>2001809383</td>\n",
       "      <td>0.50</td>\n",
       "      <td>121003</td>\n",
       "      <td>303702</td>\n",
       "      <td>d</td>\n",
       "      <td>Forward and RTO charges</td>\n",
       "      <td>86.7</td>\n",
       "    </tr>\n",
       "    <tr>\n",
       "      <th>121</th>\n",
       "      <td>1091120922803</td>\n",
       "      <td>2001820978</td>\n",
       "      <td>0.50</td>\n",
       "      <td>121003</td>\n",
       "      <td>313301</td>\n",
       "      <td>d</td>\n",
       "      <td>Forward charges</td>\n",
       "      <td>45.4</td>\n",
       "    </tr>\n",
       "    <tr>\n",
       "      <th>122</th>\n",
       "      <td>1091121844806</td>\n",
       "      <td>2001811475</td>\n",
       "      <td>0.50</td>\n",
       "      <td>121003</td>\n",
       "      <td>173212</td>\n",
       "      <td>b</td>\n",
       "      <td>Forward charges</td>\n",
       "      <td>33.0</td>\n",
       "    </tr>\n",
       "    <tr>\n",
       "      <th>123</th>\n",
       "      <td>1091121846136</td>\n",
       "      <td>2001811305</td>\n",
       "      <td>0.50</td>\n",
       "      <td>121003</td>\n",
       "      <td>302020</td>\n",
       "      <td>d</td>\n",
       "      <td>Forward charges</td>\n",
       "      <td>45.4</td>\n",
       "    </tr>\n",
       "  </tbody>\n",
       "</table>\n",
       "<p>124 rows × 8 columns</p>\n",
       "</div>"
      ],
      "text/plain": [
       "          AWB Code    Order ID  Charged Weight  Warehouse Pincode  \\\n",
       "0    1091117222124  2001806232            1.30             121003   \n",
       "1    1091117222194  2001806273            1.00             121003   \n",
       "2    1091117222931  2001806408            2.50             121003   \n",
       "3    1091117223244  2001806458            1.00             121003   \n",
       "4    1091117229345  2001807012            0.15             121003   \n",
       "..             ...         ...             ...                ...   \n",
       "119  1091118551656  2001812941            0.73             121003   \n",
       "120  1091117614452  2001809383            0.50             121003   \n",
       "121  1091120922803  2001820978            0.50             121003   \n",
       "122  1091121844806  2001811475            0.50             121003   \n",
       "123  1091121846136  2001811305            0.50             121003   \n",
       "\n",
       "     Customer Pincode Zone         Type of Shipment  Billing Amount (Rs.)  \n",
       "0              507101    d          Forward charges                 135.0  \n",
       "1              486886    d          Forward charges                  90.2  \n",
       "2              532484    d          Forward charges                 224.6  \n",
       "3              143001    b          Forward charges                  61.3  \n",
       "4              515591    d          Forward charges                  45.4  \n",
       "..                ...  ...                      ...                   ...  \n",
       "119            325207    d          Forward charges                  90.2  \n",
       "120            303702    d  Forward and RTO charges                  86.7  \n",
       "121            313301    d          Forward charges                  45.4  \n",
       "122            173212    b          Forward charges                  33.0  \n",
       "123            302020    d          Forward charges                  45.4  \n",
       "\n",
       "[124 rows x 8 columns]"
      ]
     },
     "execution_count": 371,
     "metadata": {},
     "output_type": "execute_result"
    }
   ],
   "source": [
    "courier_invoice"
   ]
  },
  {
   "cell_type": "code",
   "execution_count": 372,
   "id": "474c3f8e",
   "metadata": {},
   "outputs": [],
   "source": [
    "courier_abc=courier_invoice[['Order ID','Customer Pincode','Type of Shipment']]"
   ]
  },
  {
   "cell_type": "code",
   "execution_count": 373,
   "id": "6cdaef57",
   "metadata": {},
   "outputs": [
    {
     "data": {
      "text/html": [
       "<div>\n",
       "<style scoped>\n",
       "    .dataframe tbody tr th:only-of-type {\n",
       "        vertical-align: middle;\n",
       "    }\n",
       "\n",
       "    .dataframe tbody tr th {\n",
       "        vertical-align: top;\n",
       "    }\n",
       "\n",
       "    .dataframe thead th {\n",
       "        text-align: right;\n",
       "    }\n",
       "</style>\n",
       "<table border=\"1\" class=\"dataframe\">\n",
       "  <thead>\n",
       "    <tr style=\"text-align: right;\">\n",
       "      <th></th>\n",
       "      <th>Order ID</th>\n",
       "      <th>Customer Pincode</th>\n",
       "      <th>Type of Shipment</th>\n",
       "    </tr>\n",
       "  </thead>\n",
       "  <tbody>\n",
       "    <tr>\n",
       "      <th>0</th>\n",
       "      <td>2001806232</td>\n",
       "      <td>507101</td>\n",
       "      <td>Forward charges</td>\n",
       "    </tr>\n",
       "    <tr>\n",
       "      <th>1</th>\n",
       "      <td>2001806273</td>\n",
       "      <td>486886</td>\n",
       "      <td>Forward charges</td>\n",
       "    </tr>\n",
       "    <tr>\n",
       "      <th>2</th>\n",
       "      <td>2001806408</td>\n",
       "      <td>532484</td>\n",
       "      <td>Forward charges</td>\n",
       "    </tr>\n",
       "    <tr>\n",
       "      <th>3</th>\n",
       "      <td>2001806458</td>\n",
       "      <td>143001</td>\n",
       "      <td>Forward charges</td>\n",
       "    </tr>\n",
       "    <tr>\n",
       "      <th>4</th>\n",
       "      <td>2001807012</td>\n",
       "      <td>515591</td>\n",
       "      <td>Forward charges</td>\n",
       "    </tr>\n",
       "  </tbody>\n",
       "</table>\n",
       "</div>"
      ],
      "text/plain": [
       "     Order ID  Customer Pincode Type of Shipment\n",
       "0  2001806232            507101  Forward charges\n",
       "1  2001806273            486886  Forward charges\n",
       "2  2001806408            532484  Forward charges\n",
       "3  2001806458            143001  Forward charges\n",
       "4  2001807012            515591  Forward charges"
      ]
     },
     "execution_count": 373,
     "metadata": {},
     "output_type": "execute_result"
    }
   ],
   "source": [
    "courier_abc.head()"
   ]
  },
  {
   "cell_type": "code",
   "execution_count": 374,
   "id": "06123381",
   "metadata": {},
   "outputs": [],
   "source": [
    "pin_code=courier_abc.merge(abc_courier,on='Customer Pincode')"
   ]
  },
  {
   "cell_type": "code",
   "execution_count": 375,
   "id": "dc7f82e8",
   "metadata": {},
   "outputs": [
    {
     "data": {
      "text/html": [
       "<div>\n",
       "<style scoped>\n",
       "    .dataframe tbody tr th:only-of-type {\n",
       "        vertical-align: middle;\n",
       "    }\n",
       "\n",
       "    .dataframe tbody tr th {\n",
       "        vertical-align: top;\n",
       "    }\n",
       "\n",
       "    .dataframe thead th {\n",
       "        text-align: right;\n",
       "    }\n",
       "</style>\n",
       "<table border=\"1\" class=\"dataframe\">\n",
       "  <thead>\n",
       "    <tr style=\"text-align: right;\">\n",
       "      <th></th>\n",
       "      <th>Order ID</th>\n",
       "      <th>Customer Pincode</th>\n",
       "      <th>Type of Shipment</th>\n",
       "      <th>Warehouse Pincode</th>\n",
       "      <th>Zone</th>\n",
       "    </tr>\n",
       "  </thead>\n",
       "  <tbody>\n",
       "    <tr>\n",
       "      <th>0</th>\n",
       "      <td>2001806232</td>\n",
       "      <td>507101</td>\n",
       "      <td>Forward charges</td>\n",
       "      <td>121003</td>\n",
       "      <td>d</td>\n",
       "    </tr>\n",
       "    <tr>\n",
       "      <th>1</th>\n",
       "      <td>2001806273</td>\n",
       "      <td>486886</td>\n",
       "      <td>Forward charges</td>\n",
       "      <td>121003</td>\n",
       "      <td>d</td>\n",
       "    </tr>\n",
       "    <tr>\n",
       "      <th>2</th>\n",
       "      <td>2001806408</td>\n",
       "      <td>532484</td>\n",
       "      <td>Forward charges</td>\n",
       "      <td>121003</td>\n",
       "      <td>d</td>\n",
       "    </tr>\n",
       "    <tr>\n",
       "      <th>3</th>\n",
       "      <td>2001806458</td>\n",
       "      <td>143001</td>\n",
       "      <td>Forward charges</td>\n",
       "      <td>121003</td>\n",
       "      <td>b</td>\n",
       "    </tr>\n",
       "    <tr>\n",
       "      <th>4</th>\n",
       "      <td>2001807012</td>\n",
       "      <td>515591</td>\n",
       "      <td>Forward charges</td>\n",
       "      <td>121003</td>\n",
       "      <td>d</td>\n",
       "    </tr>\n",
       "  </tbody>\n",
       "</table>\n",
       "</div>"
      ],
      "text/plain": [
       "     Order ID  Customer Pincode Type of Shipment  Warehouse Pincode Zone\n",
       "0  2001806232            507101  Forward charges             121003    d\n",
       "1  2001806273            486886  Forward charges             121003    d\n",
       "2  2001806408            532484  Forward charges             121003    d\n",
       "3  2001806458            143001  Forward charges             121003    b\n",
       "4  2001807012            515591  Forward charges             121003    d"
      ]
     },
     "execution_count": 375,
     "metadata": {},
     "output_type": "execute_result"
    }
   ],
   "source": [
    "pin_code.head()"
   ]
  },
  {
   "cell_type": "code",
   "execution_count": 376,
   "id": "f32e4bb0",
   "metadata": {},
   "outputs": [
    {
     "data": {
      "text/html": [
       "<div>\n",
       "<style scoped>\n",
       "    .dataframe tbody tr th:only-of-type {\n",
       "        vertical-align: middle;\n",
       "    }\n",
       "\n",
       "    .dataframe tbody tr th {\n",
       "        vertical-align: top;\n",
       "    }\n",
       "\n",
       "    .dataframe thead th {\n",
       "        text-align: right;\n",
       "    }\n",
       "</style>\n",
       "<table border=\"1\" class=\"dataframe\">\n",
       "  <thead>\n",
       "    <tr style=\"text-align: right;\">\n",
       "      <th></th>\n",
       "      <th>Order ID</th>\n",
       "      <th>SKU</th>\n",
       "      <th>Order Qty</th>\n",
       "      <th>Weight (g)</th>\n",
       "    </tr>\n",
       "  </thead>\n",
       "  <tbody>\n",
       "    <tr>\n",
       "      <th>0</th>\n",
       "      <td>2001827036</td>\n",
       "      <td>8904223818706</td>\n",
       "      <td>1.0</td>\n",
       "      <td>127</td>\n",
       "    </tr>\n",
       "    <tr>\n",
       "      <th>1</th>\n",
       "      <td>2001821995</td>\n",
       "      <td>8904223818706</td>\n",
       "      <td>1.0</td>\n",
       "      <td>127</td>\n",
       "    </tr>\n",
       "    <tr>\n",
       "      <th>2</th>\n",
       "      <td>2001819252</td>\n",
       "      <td>8904223818706</td>\n",
       "      <td>1.0</td>\n",
       "      <td>127</td>\n",
       "    </tr>\n",
       "    <tr>\n",
       "      <th>3</th>\n",
       "      <td>2001816996</td>\n",
       "      <td>8904223818706</td>\n",
       "      <td>1.0</td>\n",
       "      <td>127</td>\n",
       "    </tr>\n",
       "    <tr>\n",
       "      <th>4</th>\n",
       "      <td>2001814580</td>\n",
       "      <td>8904223818706</td>\n",
       "      <td>1.0</td>\n",
       "      <td>127</td>\n",
       "    </tr>\n",
       "  </tbody>\n",
       "</table>\n",
       "</div>"
      ],
      "text/plain": [
       "     Order ID            SKU  Order Qty  Weight (g)\n",
       "0  2001827036  8904223818706        1.0         127\n",
       "1  2001821995  8904223818706        1.0         127\n",
       "2  2001819252  8904223818706        1.0         127\n",
       "3  2001816996  8904223818706        1.0         127\n",
       "4  2001814580  8904223818706        1.0         127"
      ]
     },
     "execution_count": 376,
     "metadata": {},
     "output_type": "execute_result"
    }
   ],
   "source": [
    "merged_data.head()"
   ]
  },
  {
   "cell_type": "code",
   "execution_count": 429,
   "id": "e67f8d90",
   "metadata": {},
   "outputs": [],
   "source": [
    "merge2=merged_data.merge(pin_code,on='Order ID')"
   ]
  },
  {
   "cell_type": "code",
   "execution_count": 430,
   "id": "299ac5e3",
   "metadata": {},
   "outputs": [],
   "source": [
    "#calucalte weight\n",
    "merge2['Weights(kg)']=merge2['Weight (g)']/1000"
   ]
  },
  {
   "cell_type": "code",
   "execution_count": 431,
   "id": "3c301f91",
   "metadata": {},
   "outputs": [],
   "source": [
    "#now we have to calulate slab weight\n",
    "\n",
    "def weight_slab(weight):\n",
    "    i=round(weight%1,1)\n",
    "    if i==0.0:\n",
    "        return weight\n",
    "    elif i>0.5:\n",
    "        return int(weight) + 1.0\n",
    "    else:\n",
    "        return int(weight)+ 0.5\n"
   ]
  },
  {
   "cell_type": "code",
   "execution_count": 432,
   "id": "8c450bae",
   "metadata": {},
   "outputs": [],
   "source": [
    "merge2['weight slab(kg)']=merge2['Weights(kg)'].apply(weight_slab)\n",
    "courier_invoice['weight slab charged by courier company']=(courier_invoice['Charged Weight']).apply(weight_slab)"
   ]
  },
  {
   "cell_type": "code",
   "execution_count": 433,
   "id": "9397d75a",
   "metadata": {},
   "outputs": [],
   "source": [
    "courier_invoice=courier_invoice.rename(columns={'Zone':'Delivery Zone Charged by Courier Company'})\n",
    "merge2=merge2.rename(columns={'Zone':'Delivery Zone As Per ABC'})\n",
    "merge2=merge2.rename(columns={'weight slab(kg)':'Weight Slab As Per ABC'})"
   ]
  },
  {
   "cell_type": "code",
   "execution_count": 434,
   "id": "83669ebd",
   "metadata": {},
   "outputs": [
    {
     "name": "stdout",
     "output_type": "stream",
     "text": [
      "     Order ID            SKU  Order Qty  Weight (g)  Customer Pincode  \\\n",
      "0  2001827036  8904223818706        1.0         127            173213   \n",
      "1  2001827036  8904223819093        1.0         150            173213   \n",
      "2  2001827036  8904223819109        1.0         100            173213   \n",
      "3  2001827036  8904223818430        1.0         165            173213   \n",
      "4  2001827036  8904223819277        1.0         350            173213   \n",
      "\n",
      "  Type of Shipment  Warehouse Pincode Delivery Zone As Per ABC  Weights(kg)  \\\n",
      "0  Forward charges             121003                        e        0.127   \n",
      "1  Forward charges             121003                        e        0.150   \n",
      "2  Forward charges             121003                        e        0.100   \n",
      "3  Forward charges             121003                        e        0.165   \n",
      "4  Forward charges             121003                        e        0.350   \n",
      "\n",
      "   Weight Slab As Per ABC  Expected Charge as per ABC  \n",
      "0                     0.5                        56.6  \n",
      "1                     0.5                        56.6  \n",
      "2                     0.5                        56.6  \n",
      "3                     0.5                        56.6  \n",
      "4                     0.5                        56.6  \n"
     ]
    }
   ],
   "source": [
    "total_expected_charge = []\n",
    "for _, row in merge2.iterrows():\n",
    "    fwd_category = 'fwd_' + row['Delivery Zone As Per ABC']\n",
    "    fwd_fixed = courier_company_rates.at[0, fwd_category + '_fixed']\n",
    "    fwd_additional = courier_company_rates.at[0, fwd_category + '_additional']\n",
    "    rto_category = 'rto_' + row['Delivery Zone As Per ABC']\n",
    "    rto_fixed = courier_company_rates.at[0, rto_category + '_fixed']\n",
    "    rto_additional = courier_company_rates.at[0, rto_category + '_additional']\n",
    "\n",
    "    weight_slab = row['Weight Slab As Per ABC']\n",
    "\n",
    "    if row['Type of Shipment'] == 'Forward charges':\n",
    "        additional_weight = max(0, (weight_slab - 0.5) / 0.5)\n",
    "        total_expected_charge.append(fwd_fixed + additional_weight * fwd_additional)\n",
    "    elif row['Type of Shipment'] == 'Forward and RTO charges':\n",
    "        additional_weight = max(0, (weight_slab - 0.5) / 0.5)\n",
    "        total_expected_charge.append(fwd_fixed + additional_weight * (fwd_additional + rto_additional))\n",
    "    else:\n",
    "        total_expected_charge.append(0)\n",
    "\n",
    "merge2['Expected Charge as per ABC'] = total_expected_charge\n",
    "print(merge2.head())"
   ]
  },
  {
   "cell_type": "code",
   "execution_count": 435,
   "id": "0da8c383",
   "metadata": {},
   "outputs": [],
   "source": [
    "merged_output=merge2.merge(courier_invoice,on='Order ID')"
   ]
  },
  {
   "cell_type": "code",
   "execution_count": 437,
   "id": "79d5c114",
   "metadata": {},
   "outputs": [
    {
     "data": {
      "text/html": [
       "<div>\n",
       "<style scoped>\n",
       "    .dataframe tbody tr th:only-of-type {\n",
       "        vertical-align: middle;\n",
       "    }\n",
       "\n",
       "    .dataframe tbody tr th {\n",
       "        vertical-align: top;\n",
       "    }\n",
       "\n",
       "    .dataframe thead th {\n",
       "        text-align: right;\n",
       "    }\n",
       "</style>\n",
       "<table border=\"1\" class=\"dataframe\">\n",
       "  <thead>\n",
       "    <tr style=\"text-align: right;\">\n",
       "      <th></th>\n",
       "      <th>Order ID</th>\n",
       "      <th>SKU</th>\n",
       "      <th>Order Qty</th>\n",
       "      <th>Weight (g)</th>\n",
       "      <th>Customer Pincode_x</th>\n",
       "      <th>Type of Shipment_x</th>\n",
       "      <th>Warehouse Pincode_x</th>\n",
       "      <th>Delivery Zone As Per ABC</th>\n",
       "      <th>Weights(kg)</th>\n",
       "      <th>Weight Slab As Per ABC</th>\n",
       "      <th>Expected Charge as per ABC</th>\n",
       "      <th>AWB Code</th>\n",
       "      <th>Charged Weight</th>\n",
       "      <th>Warehouse Pincode_y</th>\n",
       "      <th>Customer Pincode_y</th>\n",
       "      <th>Delivery Zone Charged by Courier Company</th>\n",
       "      <th>Type of Shipment_y</th>\n",
       "      <th>Billing Amount (Rs.)</th>\n",
       "      <th>weight slab charged by courier company</th>\n",
       "    </tr>\n",
       "  </thead>\n",
       "  <tbody>\n",
       "    <tr>\n",
       "      <th>0</th>\n",
       "      <td>2001827036</td>\n",
       "      <td>8904223818706</td>\n",
       "      <td>1.0</td>\n",
       "      <td>127</td>\n",
       "      <td>173213</td>\n",
       "      <td>Forward charges</td>\n",
       "      <td>121003</td>\n",
       "      <td>e</td>\n",
       "      <td>0.127</td>\n",
       "      <td>0.5</td>\n",
       "      <td>56.6</td>\n",
       "      <td>1091122418320</td>\n",
       "      <td>1.6</td>\n",
       "      <td>121003</td>\n",
       "      <td>173213</td>\n",
       "      <td>b</td>\n",
       "      <td>Forward charges</td>\n",
       "      <td>117.9</td>\n",
       "      <td>2.0</td>\n",
       "    </tr>\n",
       "    <tr>\n",
       "      <th>1</th>\n",
       "      <td>2001827036</td>\n",
       "      <td>8904223819093</td>\n",
       "      <td>1.0</td>\n",
       "      <td>150</td>\n",
       "      <td>173213</td>\n",
       "      <td>Forward charges</td>\n",
       "      <td>121003</td>\n",
       "      <td>e</td>\n",
       "      <td>0.150</td>\n",
       "      <td>0.5</td>\n",
       "      <td>56.6</td>\n",
       "      <td>1091122418320</td>\n",
       "      <td>1.6</td>\n",
       "      <td>121003</td>\n",
       "      <td>173213</td>\n",
       "      <td>b</td>\n",
       "      <td>Forward charges</td>\n",
       "      <td>117.9</td>\n",
       "      <td>2.0</td>\n",
       "    </tr>\n",
       "    <tr>\n",
       "      <th>2</th>\n",
       "      <td>2001827036</td>\n",
       "      <td>8904223819109</td>\n",
       "      <td>1.0</td>\n",
       "      <td>100</td>\n",
       "      <td>173213</td>\n",
       "      <td>Forward charges</td>\n",
       "      <td>121003</td>\n",
       "      <td>e</td>\n",
       "      <td>0.100</td>\n",
       "      <td>0.5</td>\n",
       "      <td>56.6</td>\n",
       "      <td>1091122418320</td>\n",
       "      <td>1.6</td>\n",
       "      <td>121003</td>\n",
       "      <td>173213</td>\n",
       "      <td>b</td>\n",
       "      <td>Forward charges</td>\n",
       "      <td>117.9</td>\n",
       "      <td>2.0</td>\n",
       "    </tr>\n",
       "    <tr>\n",
       "      <th>3</th>\n",
       "      <td>2001827036</td>\n",
       "      <td>8904223818430</td>\n",
       "      <td>1.0</td>\n",
       "      <td>165</td>\n",
       "      <td>173213</td>\n",
       "      <td>Forward charges</td>\n",
       "      <td>121003</td>\n",
       "      <td>e</td>\n",
       "      <td>0.165</td>\n",
       "      <td>0.5</td>\n",
       "      <td>56.6</td>\n",
       "      <td>1091122418320</td>\n",
       "      <td>1.6</td>\n",
       "      <td>121003</td>\n",
       "      <td>173213</td>\n",
       "      <td>b</td>\n",
       "      <td>Forward charges</td>\n",
       "      <td>117.9</td>\n",
       "      <td>2.0</td>\n",
       "    </tr>\n",
       "    <tr>\n",
       "      <th>4</th>\n",
       "      <td>2001827036</td>\n",
       "      <td>8904223819277</td>\n",
       "      <td>1.0</td>\n",
       "      <td>350</td>\n",
       "      <td>173213</td>\n",
       "      <td>Forward charges</td>\n",
       "      <td>121003</td>\n",
       "      <td>e</td>\n",
       "      <td>0.350</td>\n",
       "      <td>0.5</td>\n",
       "      <td>56.6</td>\n",
       "      <td>1091122418320</td>\n",
       "      <td>1.6</td>\n",
       "      <td>121003</td>\n",
       "      <td>173213</td>\n",
       "      <td>b</td>\n",
       "      <td>Forward charges</td>\n",
       "      <td>117.9</td>\n",
       "      <td>2.0</td>\n",
       "    </tr>\n",
       "  </tbody>\n",
       "</table>\n",
       "</div>"
      ],
      "text/plain": [
       "     Order ID            SKU  Order Qty  Weight (g)  Customer Pincode_x  \\\n",
       "0  2001827036  8904223818706        1.0         127              173213   \n",
       "1  2001827036  8904223819093        1.0         150              173213   \n",
       "2  2001827036  8904223819109        1.0         100              173213   \n",
       "3  2001827036  8904223818430        1.0         165              173213   \n",
       "4  2001827036  8904223819277        1.0         350              173213   \n",
       "\n",
       "  Type of Shipment_x  Warehouse Pincode_x Delivery Zone As Per ABC  \\\n",
       "0    Forward charges               121003                        e   \n",
       "1    Forward charges               121003                        e   \n",
       "2    Forward charges               121003                        e   \n",
       "3    Forward charges               121003                        e   \n",
       "4    Forward charges               121003                        e   \n",
       "\n",
       "   Weights(kg)  Weight Slab As Per ABC  Expected Charge as per ABC  \\\n",
       "0        0.127                     0.5                        56.6   \n",
       "1        0.150                     0.5                        56.6   \n",
       "2        0.100                     0.5                        56.6   \n",
       "3        0.165                     0.5                        56.6   \n",
       "4        0.350                     0.5                        56.6   \n",
       "\n",
       "        AWB Code  Charged Weight  Warehouse Pincode_y  Customer Pincode_y  \\\n",
       "0  1091122418320             1.6               121003              173213   \n",
       "1  1091122418320             1.6               121003              173213   \n",
       "2  1091122418320             1.6               121003              173213   \n",
       "3  1091122418320             1.6               121003              173213   \n",
       "4  1091122418320             1.6               121003              173213   \n",
       "\n",
       "  Delivery Zone Charged by Courier Company Type of Shipment_y  \\\n",
       "0                                        b    Forward charges   \n",
       "1                                        b    Forward charges   \n",
       "2                                        b    Forward charges   \n",
       "3                                        b    Forward charges   \n",
       "4                                        b    Forward charges   \n",
       "\n",
       "   Billing Amount (Rs.)  weight slab charged by courier company  \n",
       "0                 117.9                                     2.0  \n",
       "1                 117.9                                     2.0  \n",
       "2                 117.9                                     2.0  \n",
       "3                 117.9                                     2.0  \n",
       "4                 117.9                                     2.0  "
      ]
     },
     "execution_count": 437,
     "metadata": {},
     "output_type": "execute_result"
    }
   ],
   "source": [
    "merged_output.head()"
   ]
  },
  {
   "cell_type": "code",
   "execution_count": 444,
   "id": "e6984d8d",
   "metadata": {},
   "outputs": [],
   "source": [
    "df_diff=merged_output"
   ]
  },
  {
   "cell_type": "code",
   "execution_count": 445,
   "id": "f5058b34",
   "metadata": {},
   "outputs": [
    {
     "name": "stdout",
     "output_type": "stream",
     "text": [
      "     Order ID  Difference (Rs.)  Expected Charge as per ABC\n",
      "0  2001827036              61.3                        56.6\n",
      "1  2001827036              61.3                        56.6\n",
      "2  2001827036              61.3                        56.6\n",
      "3  2001827036              61.3                        56.6\n",
      "4  2001827036              61.3                        56.6\n"
     ]
    }
   ],
   "source": [
    "df_diff = merged_output\n",
    "df_diff['Difference (Rs.)'] = df_diff['Billing Amount (Rs.)'] - df_diff['Expected Charge as per ABC']\n",
    "\n",
    "df_new = df_diff[['Order ID', 'Difference (Rs.)', 'Expected Charge as per ABC']]\n",
    "\n",
    "print(df_new.head())"
   ]
  },
  {
   "cell_type": "code",
   "execution_count": 446,
   "id": "9263d3f6",
   "metadata": {},
   "outputs": [
    {
     "name": "stdout",
     "output_type": "stream",
     "text": [
      "                                         Description  Count  Amount (Rs.)\n",
      "0  Total Orders where ABC has been correctly charged     12         507.6\n",
      "1        Total Orders where ABC has been overcharged    382       33750.5\n",
      "2       Total Orders where ABC has been undercharged      7        -165.2\n"
     ]
    }
   ],
   "source": [
    "# Calculate the total orders in each category\n",
    "total_correctly_charged = len(df_new[df_new['Difference (Rs.)'] == 0])\n",
    "total_overcharged = len(df_new[df_new['Difference (Rs.)'] > 0])\n",
    "total_undercharged = len(df_new[df_new['Difference (Rs.)'] < 0])\n",
    "\n",
    "# Calculate the total amount in each category\n",
    "amount_overcharged = abs(df_new[df_new['Difference (Rs.)'] > 0]['Difference (Rs.)'].sum())\n",
    "amount_undercharged = df_new[df_new['Difference (Rs.)'] < 0]['Difference (Rs.)'].sum()\n",
    "amount_correctly_charged = df_new[df_new['Difference (Rs.)'] == 0]['Expected Charge as per ABC'].sum()\n",
    "\n",
    "# Create a new DataFrame for the summary\n",
    "summary_data = {'Description': ['Total Orders where ABC has been correctly charged',\n",
    "                                'Total Orders where ABC has been overcharged',\n",
    "                                'Total Orders where ABC has been undercharged'],\n",
    "                'Count': [total_correctly_charged, total_overcharged, total_undercharged],\n",
    "                'Amount (Rs.)': [amount_correctly_charged, amount_overcharged, amount_undercharged]}\n",
    "\n",
    "df_summary = pd.DataFrame(summary_data)\n",
    "\n",
    "print(df_summary)"
   ]
  },
  {
   "cell_type": "code",
   "execution_count": 447,
   "id": "e8312d2c",
   "metadata": {},
   "outputs": [
    {
     "ename": "NameError",
     "evalue": "name 'os' is not defined",
     "output_type": "error",
     "traceback": [
      "\u001b[1;31m---------------------------------------------------------------------------\u001b[0m",
      "\u001b[1;31mNameError\u001b[0m                                 Traceback (most recent call last)",
      "Cell \u001b[1;32mIn[447], line 1\u001b[0m\n\u001b[1;32m----> 1\u001b[0m os\u001b[38;5;241m.\u001b[39mget\u001b[38;5;241m.\u001b[39mcwd()\n",
      "\u001b[1;31mNameError\u001b[0m: name 'os' is not defined"
     ]
    }
   ],
   "source": []
  },
  {
   "cell_type": "code",
   "execution_count": null,
   "id": "e838ca82",
   "metadata": {},
   "outputs": [],
   "source": []
  }
 ],
 "metadata": {
  "kernelspec": {
   "display_name": "Python 3 (ipykernel)",
   "language": "python",
   "name": "python3"
  },
  "language_info": {
   "codemirror_mode": {
    "name": "ipython",
    "version": 3
   },
   "file_extension": ".py",
   "mimetype": "text/x-python",
   "name": "python",
   "nbconvert_exporter": "python",
   "pygments_lexer": "ipython3",
   "version": "3.11.5"
  }
 },
 "nbformat": 4,
 "nbformat_minor": 5
}
